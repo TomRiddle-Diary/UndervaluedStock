{
 "cells": [
  {
   "cell_type": "markdown",
   "id": "5543da9e-e2d4-4a18-9d1e-34ec7c6a7c48",
   "metadata": {},
   "source": [
    "#                                This program can support your investing decision"
   ]
  },
  {
   "cell_type": "code",
   "execution_count": 3,
   "id": "15146b57-2e72-401b-8426-e40650493160",
   "metadata": {},
   "outputs": [],
   "source": [
    "import pandas as pd\n",
    "import numpy as np\n",
    "import yfinance as yf"
   ]
  },
  {
   "cell_type": "markdown",
   "id": "cf9ca436-9f73-42d0-9b18-30e7f6d65daf",
   "metadata": {},
   "source": [
    "# 1. Correct the company's ticker you want to analyze "
   ]
  },
  {
   "cell_type": "code",
   "execution_count": 4,
   "id": "12c0768e-86bf-40b8-86c5-eff3e7834bab",
   "metadata": {},
   "outputs": [],
   "source": [
    "# Correct top 500 U.S. comanies by market capitalization\n",
    "df = pd.read_csv('data/nasdaq.csv')\n",
    "df = df[df.Country == 'United States']\n",
    "data = df.sort_values('Market Cap', ascending=False).head(500)\n",
    "tickers = []\n",
    "for _, i in data.iterrows():\n",
    "    ticker = f\"{i.Symbol}\"\n",
    "    tickers.append(ticker)"
   ]
  },
  {
   "cell_type": "markdown",
   "id": "fef2dbd8-a48c-440b-b46f-08822190f58e",
   "metadata": {},
   "source": [
    "# 2. Find out undervalued stock by PER (Price / 3 years average of EPS)"
   ]
  },
  {
   "cell_type": "code",
   "execution_count": null,
   "id": "f6882943-9233-44b2-8cb5-495da4bc3589",
   "metadata": {},
   "outputs": [
    {
     "name": "stdout",
     "output_type": "stream",
     "text": [
      "Error processing BRK/A: HTTP Error 500: \n",
      "Error processing BRK/B: HTTP Error 500: \n",
      "Error processing CCZ: 'Diluted EPS'\n",
      "Error processing TBB: 'Diluted EPS'\n",
      "Error processing HBANL: 'Diluted EPS'\n",
      "Error processing HBANM: 'Diluted EPS'\n",
      "Error processing ECCF: 'Diluted EPS'\n",
      "Error processing MCHPP: 'Diluted EPS'\n",
      "Error processing HBANP: 'Diluted EPS'\n",
      "Error processing CRWV: single positional indexer is out-of-bounds\n",
      "Error processing STRF: 'Diluted EPS'\n"
     ]
    }
   ],
   "source": [
    "pers = []\n",
    "for i, ticker in enumerate(tickers):\n",
    "    symbol = yf.Ticker(ticker)\n",
    "\n",
    "    try:\n",
    "        # Initialze data\n",
    "        ins = symbol.financials\n",
    "        overview = symbol.info\n",
    "\n",
    "        # Normal PER\n",
    "        nper = overview.get('trailingPE')\n",
    "\n",
    "        # Current price\n",
    "        price = overview.get('regularMarketPrice', np.nan)\n",
    "\n",
    "        # Get 3-year average of EPS\n",
    "        flag = 0\n",
    "        first = float(ins.loc['Diluted EPS'].iloc[0])\n",
    "        if np.isnan(first):\n",
    "            flag += 1\n",
    "            first = 0\n",
    "        second = float(ins.loc['Diluted EPS'].iloc[1])\n",
    "        if np.isnan(second):\n",
    "            flag += 1\n",
    "            second = 0\n",
    "        third = float(ins.loc['Diluted EPS'].iloc[2])\n",
    "        if np.isnan(third):\n",
    "            flag += 1\n",
    "            third = 0\n",
    "        forth = float(ins.loc['Diluted EPS'].iloc[3])\n",
    "        if np.isnan(forth):\n",
    "            flag += 1\n",
    "            forth = 0\n",
    "        avg = (first + second + third) / (4 - flag)\n",
    "\n",
    "        # Graham PER\n",
    "        gper = round(price / avg, 2)\n",
    "        pers.append({'ticker': ticker, 'g_per': gper, 'n_per': nper, 'first': first, 'second': second, 'third': third, 'forth': forth})\n",
    "\n",
    "    except Exception as e:\n",
    "        print(f\"Error processing {ticker}: {e}\")\n",
    "        continue \n",
    "\n",
    "df = pd.DataFrame(pers)\n",
    "df = df[df.g_per > 0]\n",
    "df.head()"
   ]
  },
  {
   "cell_type": "markdown",
   "id": "d26976b2-0ed9-4f44-8266-6c924cb64ce0",
   "metadata": {},
   "source": [
    "# Select companies have PER < 15¶"
   ]
  },
  {
   "cell_type": "code",
   "execution_count": null,
   "id": "9b859d91-60db-4370-8b2c-cbd5444b760a",
   "metadata": {},
   "outputs": [],
   "source": [
    "selection = df[df.g_per < 15.0]"
   ]
  },
  {
   "cell_type": "markdown",
   "id": "240078f6-98e5-45e3-9cda-91ecaf98b590",
   "metadata": {},
   "source": [
    "# Find out undervalued stock by PBR "
   ]
  },
  {
   "cell_type": "code",
   "execution_count": null,
   "id": "ca0c0871-490a-44ae-b6d7-271574895f79",
   "metadata": {},
   "outputs": [],
   "source": [
    "undervalues = []\n",
    "for _, i in selection.iterrows():\n",
    "    symbol = yf.Ticker(i.ticker)\n",
    "\n",
    "    try:\n",
    "        # Initialze data\n",
    "        overview = symbol.info\n",
    "        per = i.g_per\n",
    "\n",
    "        # Get PBR\n",
    "        pbr = round(overview.get('priceToBook', np.nan), 2)\n",
    "\n",
    "        # PER * PBR\n",
    "        if pd.notna(pbr):\n",
    "            per_pbr = round(per * pbr, 2)\n",
    "        else:\n",
    "            per_pbr = None\n",
    "\n",
    "        undervalues.append({'ticker': i.ticker, 'PER': per, 'PBR': pbr, 'PER*PBR': per_pbr})\n",
    "\n",
    "    except Exception as e:\n",
    "        print(f\"Error processing {i.ticker}: {e}\")\n",
    "        continue \n",
    "\n",
    "undervalue_df = pd.DataFrame(undervalues)"
   ]
  },
  {
   "cell_type": "markdown",
   "id": "a3c1863d-11d3-4ec9-b1d7-02da6c905140",
   "metadata": {},
   "source": [
    "# Select companies have PBR < 1.5"
   ]
  },
  {
   "cell_type": "code",
   "execution_count": null,
   "id": "4d54998e-3e68-454b-8d27-3a555f554cd0",
   "metadata": {},
   "outputs": [],
   "source": [
    "undervalue_df = undervalue_df[(undervalue_df['PBR'] < 1.5) & (undervalue_df['PBR'] > 0)]\n",
    "undervalue_df"
   ]
  }
 ],
 "metadata": {
  "kernelspec": {
   "display_name": "Python 3 (ipykernel)",
   "language": "python",
   "name": "python3"
  },
  "language_info": {
   "codemirror_mode": {
    "name": "ipython",
    "version": 3
   },
   "file_extension": ".py",
   "mimetype": "text/x-python",
   "name": "python",
   "nbconvert_exporter": "python",
   "pygments_lexer": "ipython3",
   "version": "3.13.1"
  }
 },
 "nbformat": 4,
 "nbformat_minor": 5
}
